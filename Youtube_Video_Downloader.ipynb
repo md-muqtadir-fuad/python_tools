{
  "nbformat": 4,
  "nbformat_minor": 0,
  "metadata": {
    "colab": {
      "provenance": [],
      "authorship_tag": "ABX9TyM7DqWVfVj2ACngbZtkI/9u",
      "include_colab_link": true
    },
    "kernelspec": {
      "name": "python3",
      "display_name": "Python 3"
    },
    "language_info": {
      "name": "python"
    }
  },
  "cells": [
    {
      "cell_type": "markdown",
      "metadata": {
        "id": "view-in-github",
        "colab_type": "text"
      },
      "source": [
        "<a href=\"https://colab.research.google.com/github/md-muqtadir-fuad/python_tools/blob/main/Youtube_Video_Downloader.ipynb\" target=\"_parent\"><img src=\"https://colab.research.google.com/assets/colab-badge.svg\" alt=\"Open In Colab\"/></a>"
      ]
    },
    {
      "cell_type": "code",
      "source": [
        "!pip install yt-dlp"
      ],
      "metadata": {
        "colab": {
          "base_uri": "https://localhost:8080/"
        },
        "id": "Y_Dsi4TaBiTA",
        "outputId": "612e2a3f-bd7f-487f-fc47-128f5a587d3f"
      },
      "execution_count": null,
      "outputs": [
        {
          "output_type": "stream",
          "name": "stdout",
          "text": [
            "Collecting yt-dlp\n",
            "  Downloading yt_dlp-2025.3.27-py3-none-any.whl.metadata (172 kB)\n",
            "\u001b[2K     \u001b[90m━━━━━━━━━━━━━━━━━━━━━━━━━━━━━━━━━━━━━━━━\u001b[0m \u001b[32m172.1/172.1 kB\u001b[0m \u001b[31m2.8 MB/s\u001b[0m eta \u001b[36m0:00:00\u001b[0m\n",
            "\u001b[?25hDownloading yt_dlp-2025.3.27-py3-none-any.whl (3.2 MB)\n",
            "\u001b[2K   \u001b[90m━━━━━━━━━━━━━━━━━━━━━━━━━━━━━━━━━━━━━━━━\u001b[0m \u001b[32m3.2/3.2 MB\u001b[0m \u001b[31m19.2 MB/s\u001b[0m eta \u001b[36m0:00:00\u001b[0m\n",
            "\u001b[?25hInstalling collected packages: yt-dlp\n",
            "Successfully installed yt-dlp-2025.3.27\n"
          ]
        }
      ]
    },
    {
      "cell_type": "code",
      "source": [
        "import yt_dlp\n",
        "import os\n",
        "\n",
        "# List of URLs of the YouTube videoes\n",
        "urls = ['https://www.youtube.com/watch?v=Q1JCrG1bJ-A&t=8s',\n",
        "        'https://www.youtube.com/watch?v=e9-0BxyKG10',\n",
        "        'https://www.youtube.com/watch?v=NsD_v-QI4WY',\n",
        "        'https://www.youtube.com/watch?v=w1UsKanMatM']\n",
        "\n",
        "# Set up download options to download the highest quality video and audio\n",
        "i= 0\n",
        "for url in urls:\n",
        "  ydl_opts = {\n",
        "    'format': 'bestvideo+bestaudio/best',  # Downloads best video and best audio and merges them\n",
        "    'outtmpl': '/content/%(title)s.%(ext)s',  # Set the output file path\n",
        "    'merge_output_format': 'mp4',  # Merge audio and video into an MP4 file\n",
        "    'noplaylist': True,  # Disable playlist download if URL is for a playlist\n",
        "}\n",
        "  # Download the video\n",
        "  with yt_dlp.YoutubeDL(ydl_opts) as ydl:\n",
        "      ydl.download([url])\n",
        "\n",
        "\n",
        "print(\"All Download complete!\")\n",
        "\n",
        "files = '.'\n",
        "files = os.listdir(files)\n",
        "print(files)\n"
      ],
      "metadata": {
        "colab": {
          "base_uri": "https://localhost:8080/"
        },
        "id": "KfKaA2-N87qx",
        "outputId": "61aa237e-859c-402c-e03a-2a71c3c30209"
      },
      "execution_count": null,
      "outputs": [
        {
          "output_type": "stream",
          "name": "stdout",
          "text": [
            "[youtube] Extracting URL: https://www.youtube.com/watch?v=Q1JCrG1bJ-A&t=8s\n",
            "[youtube] Q1JCrG1bJ-A: Downloading webpage\n",
            "[youtube] Q1JCrG1bJ-A: Downloading tv client config\n",
            "[youtube] Q1JCrG1bJ-A: Downloading player 20830619\n",
            "[youtube] Q1JCrG1bJ-A: Downloading tv player API JSON\n",
            "[youtube] Q1JCrG1bJ-A: Downloading ios player API JSON\n",
            "[youtube] Q1JCrG1bJ-A: Downloading m3u8 information\n",
            "[info] Q1JCrG1bJ-A: Downloading 1 format(s): 248+251\n",
            "[download] /content/Residual Networks and Skip Connections (DL 15).mp4 has already been downloaded\n",
            "[youtube] Extracting URL: https://www.youtube.com/watch?v=e9-0BxyKG10\n",
            "[youtube] e9-0BxyKG10: Downloading webpage\n",
            "[youtube] e9-0BxyKG10: Downloading tv client config\n",
            "[youtube] e9-0BxyKG10: Downloading player 20830619\n",
            "[youtube] e9-0BxyKG10: Downloading tv player API JSON\n",
            "[youtube] e9-0BxyKG10: Downloading ios player API JSON\n",
            "[youtube] e9-0BxyKG10: Downloading m3u8 information\n",
            "[info] e9-0BxyKG10: Downloading 1 format(s): 399+251\n",
            "[download] /content/Transformers and Self-Attention (DL 19).mp4 has already been downloaded\n",
            "[youtube] Extracting URL: https://www.youtube.com/watch?v=NsD_v-QI4WY\n",
            "[youtube] NsD_v-QI4WY: Downloading webpage\n",
            "[youtube] NsD_v-QI4WY: Downloading tv client config\n",
            "[youtube] NsD_v-QI4WY: Downloading player 20830619\n",
            "[youtube] NsD_v-QI4WY: Downloading tv player API JSON\n",
            "[youtube] NsD_v-QI4WY: Downloading ios player API JSON\n",
            "[youtube] NsD_v-QI4WY: Downloading m3u8 information\n",
            "[info] NsD_v-QI4WY: Downloading 1 format(s): 248+251\n",
            "[download] /content/Auto-Encoders (DL 22).mp4 has already been downloaded\n",
            "[youtube] Extracting URL: https://www.youtube.com/watch?v=w1UsKanMatM\n",
            "[youtube] w1UsKanMatM: Downloading webpage\n",
            "[youtube] w1UsKanMatM: Downloading tv client config\n",
            "[youtube] w1UsKanMatM: Downloading player 20830619\n",
            "[youtube] w1UsKanMatM: Downloading tv player API JSON\n",
            "[youtube] w1UsKanMatM: Downloading ios player API JSON\n",
            "[youtube] w1UsKanMatM: Downloading m3u8 information\n",
            "[info] w1UsKanMatM: Downloading 1 format(s): 401+251\n",
            "[download] /content/Residual Networks (ResNet) [Physics Informed Machine Learning].mp4 has already been downloaded\n",
            "All Download complete!\n",
            "['.config', '.ipynb_checkpoints', 'Transformers and Self-Attention (DL 19).mp4', 'Auto-Encoders (DL 22).mp4', 'Residual Networks and Skip Connections (DL 15).mp4', 'Residual Networks (ResNet) [Physics Informed Machine Learning].mp4', 'sample_data']\n"
          ]
        }
      ]
    }
  ]
}